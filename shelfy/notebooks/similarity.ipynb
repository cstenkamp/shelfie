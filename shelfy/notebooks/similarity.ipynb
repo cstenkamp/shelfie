{
 "cells": [
  {
   "cell_type": "markdown",
   "metadata": {},
   "source": [
    "## Imports"
   ]
  },
  {
   "cell_type": "code",
   "execution_count": null,
   "metadata": {},
   "outputs": [],
   "source": [
    "import csv\n",
    "import json\n",
    "import numpy as np\n",
    "import os\n",
    "import sys\n",
    "\n",
    "from sqlalchemy import create_engine\n",
    "from sqlalchemy_utils import database_exists, create_database\n",
    "import psycopg2\n",
    "\n",
    "\n",
    "\n",
    "\n",
    "import matplotlib.pyplot as plt\n",
    "import numpy\n",
    "import pickle\n",
    "\n",
    "\n",
    "sys.path.append('..')\n",
    "import main\n",
    "\n",
    "sys.path.append('../models')\n",
    "import similarity"
   ]
  },
  {
   "cell_type": "markdown",
   "metadata": {},
   "source": [
    "## Similarity and right/wrong classification"
   ]
  },
  {
   "cell_type": "code",
   "execution_count": null,
   "metadata": {},
   "outputs": [],
   "source": [
    "submission_base_directory = main.SHELFY_BASE_PATH + '/static/submissions/'\n",
    "submissions = [submission for submission in os.listdir(submission_base_directory)]\n",
    "submission_directories = [submission_base_directory + submission for submission in submissions]\n",
    "\n",
    "\n",
    "def get_submission_shelf_name(submission_directory):\n",
    "    with open(submission_directory + '/info.txt', 'r') as file_handle:\n",
    "        shelf_name = file_handle.readline().split('.')[0]\n",
    "    return shelf_name\n",
    "\n",
    "\n",
    "        \n",
    "\n",
    "# Loop over all submissions\n",
    "sims = []\n",
    "corrects = []\n",
    "for i in range(len(submissions)):\n",
    "    \n",
    "    \n",
    "    # Get the book objects out\n",
    "    books_directory = submission_directories[i] + '/books/'\n",
    "    book_ids = [id for id in os.listdir(books_directory)]\n",
    "    \n",
    "    books = []\n",
    "    for book_id in book_ids:\n",
    "        with open(books_directory + book_id, 'rb') as file_handle:\n",
    "            book = pickle.load(file_handle)\n",
    "            books.append(book)\n",
    "            \n",
    "    # Get the actual list of books that are present in the image out\n",
    "    shelf_name = get_submission_shelf_name(submission_directories[i])\n",
    "    shelf_directory = main.SHELFY_BASE_PATH + '/data/shelves/' + shelf_name + '/'\n",
    "    \n",
    "    titles_amazon_products = []\n",
    "    with open(shelf_directory + 'titles_amazon_products', 'r') as file_handle:\n",
    "        reader = csv.reader(file_handle, delimiter = ',')\n",
    "        for row in reader:\n",
    "            titles_amazon_products.append(row[1])\n",
    "            \n",
    "    # For each book, calculate similarity and whether match was correct or not\n",
    "    for book in books:\n",
    "        \n",
    "        # Calculate similarity\n",
    "        sim = similarity.calculate_book_score(book)\n",
    "        \n",
    "        \n",
    "        # Determine whether the match was correct or not\n",
    "        if book.book_info['title'] in titles_amazon_products:\n",
    "            correct = 1\n",
    "        else:\n",
    "            correct = 0\n",
    "            \n",
    "        # Append\n",
    "        sims.append(sim)\n",
    "        corrects.append(correct)\n",
    "        \n",
    "sims = np.array(sims)\n",
    "corrects = np.array(corrects)"
   ]
  },
  {
   "cell_type": "code",
   "execution_count": null,
   "metadata": {},
   "outputs": [],
   "source": [
    "fig = plt.figure(figsize = (8,6))\n",
    "\n",
    "plt.hist(sims[corrects == 1], alpha = 0.5, bins = 12, zorder = 2, label = 'correct')\n",
    "plt.hist(sims[np.where(corrects == 0)], alpha = 0.5, bins = 12, zorder = 1, label = 'incorrect')\n",
    "\n",
    "\n",
    "# Cosmetics\n",
    "plt.title('similarity scores for correct and incorrect matches')\n",
    "plt.xlabel('similarity score')\n",
    "plt.ylabel('counts')\n",
    "plt.grid(zorder = 0)\n",
    "plt.legend(loc = 'best')\n",
    "\n",
    "\n",
    "plt.savefig('sim_histo.png', dpi = 300)\n",
    "plt.show()"
   ]
  }
 ],
 "metadata": {
  "kernelspec": {
   "display_name": "Python 3",
   "language": "python",
   "name": "python3"
  },
  "language_info": {
   "codemirror_mode": {
    "name": "ipython",
    "version": 3
   },
   "file_extension": ".py",
   "mimetype": "text/x-python",
   "name": "python",
   "nbconvert_exporter": "python",
   "pygments_lexer": "ipython3",
   "version": "3.6.1"
  }
 },
 "nbformat": 4,
 "nbformat_minor": 2
}
