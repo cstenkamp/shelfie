{
 "cells": [
  {
   "cell_type": "markdown",
   "metadata": {},
   "source": [
    "## Spine detection"
   ]
  },
  {
   "cell_type": "code",
   "execution_count": null,
   "metadata": {},
   "outputs": [],
   "source": [
    "%matplotlib inline"
   ]
  },
  {
   "cell_type": "code",
   "execution_count": null,
   "metadata": {},
   "outputs": [],
   "source": [
    "# Python standard library\n",
    "import sys\n",
    "\n",
    "# Scientific computing\n",
    "import cv2\n",
    "import numpy as np\n",
    "import matplotlib.pyplot as plt\n",
    "import scipy.ndimage\n",
    "import skimage.filters\n",
    "import scipy.stats\n",
    "\n",
    "# Shelfie\n",
    "sys.path.append('..')\n",
    "sys.path.append('../models')\n",
    "import main\n",
    "import models.image_processing as ip"
   ]
  },
  {
   "cell_type": "code",
   "execution_count": null,
   "metadata": {},
   "outputs": [],
   "source": [
    "# Load image\n",
    "import os\n",
    "shelf = 'reddit_10'\n",
    "file_directory = os.path.abspath(os.path.dirname(main.__file__)) + '/data/shelves/' + shelf + '/'\n",
    "#file_name = shelf + '.jpg'\n",
    "file_name = shelf+\".jpg\" #'raw_img.jpg'\n",
    "file_path = file_directory + file_name\n",
    "\n",
    "print(file_path)\n",
    "\n",
    "img = cv2.imread(file_path)[:,:,::-1]\n",
    "\n",
    "fig = plt.figure(figsize = (16,12))\n",
    "plt.imshow(img)\n",
    "#plt.xticks([])\n",
    "#plt.yticks([])\n",
    "#plt.show()"
   ]
  },
  {
   "cell_type": "code",
   "execution_count": null,
   "metadata": {},
   "outputs": [],
   "source": [
    "# Rotate images\n",
    "\n",
    "\n",
    "\n",
    "ip.get_book_lines(img, angles = [-4, 0, 4], debug = False)"
   ]
  },
  {
   "cell_type": "code",
   "execution_count": null,
   "metadata": {},
   "outputs": [],
   "source": []
  },
  {
   "cell_type": "code",
   "execution_count": null,
   "metadata": {},
   "outputs": [],
   "source": []
  }
 ],
 "metadata": {
  "kernelspec": {
   "display_name": "Python 3",
   "language": "python",
   "name": "python3"
  },
  "language_info": {
   "codemirror_mode": {
    "name": "ipython",
    "version": 3
   },
   "file_extension": ".py",
   "mimetype": "text/x-python",
   "name": "python",
   "nbconvert_exporter": "python",
   "pygments_lexer": "ipython3",
   "version": "3.8.3"
  }
 },
 "nbformat": 4,
 "nbformat_minor": 4
}
