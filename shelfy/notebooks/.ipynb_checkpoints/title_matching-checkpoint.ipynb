{
 "cells": [
  {
   "cell_type": "markdown",
   "metadata": {},
   "source": [
    "# Title matching\n",
    "\n",
    "Given the actual titles of books on bookshelves (manually entered), queries each of the book information sources for the titles that they return; this is used in order to actually determine whether a true match is made or not when some book information is obtained\n",
    "\n",
    "Saves the information to the correct place."
   ]
  },
  {
   "cell_type": "markdown",
   "metadata": {},
   "source": [
    "## Imports"
   ]
  },
  {
   "cell_type": "code",
   "execution_count": null,
   "metadata": {},
   "outputs": [],
   "source": [
    "import csv\n",
    "import os\n",
    "import time\n",
    "import sys\n",
    "\n",
    "\n",
    "sys.path.append('..')\n",
    "import main\n",
    "\n",
    "sys.path.append('../models')\n",
    "import scraper"
   ]
  },
  {
   "cell_type": "markdown",
   "metadata": {},
   "source": [
    "## Load a bookshelf"
   ]
  },
  {
   "cell_type": "code",
   "execution_count": null,
   "metadata": {},
   "outputs": [],
   "source": [
    "# Set directories\n",
    "SHELFY_BASE_PATH = os.path.abspath(os.path.dirname(main.__file__))\n",
    "bookshelf_directory = SHELFY_BASE_PATH + '/data/shelves/'\n",
    "bookshelf_name = 'home_6'\n",
    "bookshelf_path = bookshelf_directory + bookshelf_name + '/titles'\n",
    "\n",
    "\n",
    "# Output file paths\n",
    "isbn_output_path = bookshelf_directory + bookshelf_name + '/isbns'\n",
    "amazon_products_titles_output_path = bookshelf_directory + bookshelf_name + '/titles_amazon_products'\n",
    "\n",
    "\n",
    "\n",
    "# Read book titles in from plain text file\n",
    "book_titles = []\n",
    "with open(bookshelf_path, 'r') as file_handle:\n",
    "    for book_title in file_handle:\n",
    "        book_titles.append(book_title.replace('\\n', ''))\n",
    "        \n",
    "print(book_titles)"
   ]
  },
  {
   "cell_type": "markdown",
   "metadata": {},
   "source": [
    "## Perform the queries"
   ]
  },
  {
   "cell_type": "code",
   "execution_count": null,
   "metadata": {},
   "outputs": [],
   "source": [
    "query_google_urls = [scraper.get_google_search_url_from_query(book_title) for book_title in book_titles]"
   ]
  },
  {
   "cell_type": "markdown",
   "metadata": {},
   "source": [
    "##### Write ISBN's to file"
   ]
  },
  {
   "cell_type": "code",
   "execution_count": null,
   "metadata": {},
   "outputs": [],
   "source": [
    "# Get the info\n",
    "\n",
    "isbns = []\n",
    "for i in range(len(query_google_urls)):\n",
    "    print(i+1, '/', len(query_google_urls))\n",
    "    \n",
    "    isbn = None\n",
    "    while isbn == None:\n",
    "        isbn = scraper.get_isbn10_from_google_search(query_google_urls[i])\n",
    "    print(isbn)\n",
    "    isbns.append(isbn)\n",
    "    \n",
    "        "
   ]
  },
  {
   "cell_type": "code",
   "execution_count": null,
   "metadata": {
    "jupyter": {
     "outputs_hidden": true
    }
   },
   "outputs": [],
   "source": [
    "# Write results to file\n",
    "\n",
    "with open(isbn_output_path, 'w') as file_handle:\n",
    "    writer = csv.writer(file_handle, delimiter = ',')\n",
    "    for isbn in isbns:\n",
    "        writer.writerow([isbn])"
   ]
  },
  {
   "cell_type": "markdown",
   "metadata": {},
   "source": [
    "##### Load ISBNs"
   ]
  },
  {
   "cell_type": "code",
   "execution_count": null,
   "metadata": {},
   "outputs": [],
   "source": [
    "# Load isbns\n",
    "isbns = []\n",
    "with open(isbn_output_path, 'r') as file_handle:\n",
    "    reader = csv.reader(file_handle, delimiter = ',')\n",
    "    for isbn in reader:\n",
    "        isbns.append(isbn[0])\n",
    "        \n",
    "print(isbns)"
   ]
  },
  {
   "cell_type": "markdown",
   "metadata": {},
   "source": [
    "##### Amazon Products API"
   ]
  },
  {
   "cell_type": "code",
   "execution_count": null,
   "metadata": {},
   "outputs": [],
   "source": [
    "# Get the info\n",
    "\n",
    "amazon = scraper.get_amazon_object()\n",
    "amazon_products_titles = []\n",
    "for i in range(len(isbns)):\n",
    "    print(i, '/', len(isbns) - 1)\n",
    "    \n",
    "    title = 'NONE'\n",
    "    \n",
    "    num_attempts = 0\n",
    "    while title == 'NONE':\n",
    "        try:\n",
    "            num_attempts += 1\n",
    "            book_info = scraper.query_amazon_products_api(isbns[i], amazon)\n",
    "            print(book_info)\n",
    "            title = book_info['title']\n",
    "            \n",
    "            \n",
    "        except:\n",
    "            print('\\tfailed')\n",
    "            pass\n",
    "        \n",
    "        if num_attempts > 10:\n",
    "            break\n",
    "        \n",
    "    print('\\t', title, '\\t', isbns[i])\n",
    "    amazon_products_titles.append(title)\n"
   ]
  },
  {
   "cell_type": "code",
   "execution_count": null,
   "metadata": {
    "jupyter": {
     "outputs_hidden": true
    }
   },
   "outputs": [],
   "source": [
    "# Write results to file\n",
    "with open(amazon_products_titles_output_path, 'w') as file_handle:\n",
    "    writer = csv.writer(file_handle, delimiter = ',')\n",
    "    for i in range(len(isbns)):\n",
    "        writer.writerow([isbns[i], amazon_products_titles[i]])"
   ]
  },
  {
   "cell_type": "code",
   "execution_count": null,
   "metadata": {
    "jupyter": {
     "outputs_hidden": true
    }
   },
   "outputs": [],
   "source": []
  }
 ],
 "metadata": {
  "kernelspec": {
   "display_name": "Python 3",
   "language": "python",
   "name": "python3"
  },
  "language_info": {
   "codemirror_mode": {
    "name": "ipython",
    "version": 3
   },
   "file_extension": ".py",
   "mimetype": "text/x-python",
   "name": "python",
   "nbconvert_exporter": "python",
   "pygments_lexer": "ipython3",
   "version": "3.8.3"
  }
 },
 "nbformat": 4,
 "nbformat_minor": 4
}
