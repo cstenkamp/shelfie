{
 "cells": [
  {
   "cell_type": "markdown",
   "metadata": {},
   "source": [
    "# Constants"
   ]
  },
  {
   "cell_type": "code",
   "execution_count": null,
   "metadata": {},
   "outputs": [],
   "source": [
    "import matplotlib\n",
    "import matplotlib.pyplot as plt\n",
    "\n",
    "\n",
    "medium_figsize = (8,6)\n",
    "\n",
    "\n",
    "cmap = matplotlib.cm.viridis\n",
    "\n",
    "words_color = [0,1,1]"
   ]
  },
  {
   "cell_type": "markdown",
   "metadata": {},
   "source": [
    "# Tokens"
   ]
  },
  {
   "cell_type": "markdown",
   "metadata": {},
   "source": [
    "##### Imports"
   ]
  },
  {
   "cell_type": "code",
   "execution_count": null,
   "metadata": {},
   "outputs": [],
   "source": [
    "# Python standard library\n",
    "import io\n",
    "import re\n",
    "import sys\n",
    "\n",
    "\n",
    "\n",
    "# Scientific computing\n",
    "import cv2\n",
    "import matplotlib.pyplot as plt\n",
    "%matplotlib inline\n",
    "import numpy as np\n",
    "\n",
    "\n",
    "# Google cloud\n",
    "from google.cloud import vision\n",
    "from google.cloud.vision import types\n",
    "\n",
    "\n",
    "# Shelfie\n",
    "sys.path.append('..')\n",
    "import main\n",
    "\n",
    "sys.path.append('../models')\n",
    "import book_functions\n",
    "import image_processing\n"
   ]
  },
  {
   "cell_type": "markdown",
   "metadata": {},
   "source": [
    "##### Get data"
   ]
  },
  {
   "cell_type": "code",
   "execution_count": null,
   "metadata": {
    "jupyter": {
     "outputs_hidden": true
    }
   },
   "outputs": [],
   "source": [
    "img_path = main.SHELFY_BASE_PATH + '/data/shelves/insight_8/insight_8.jpg'\n",
    "\n",
    "# Instantiates a google vision API client\n",
    "client = vision.ImageAnnotatorClient()\n",
    "\n",
    "# Loads the image into memory\n",
    "with io.open(img_path, 'rb') as img_file:\n",
    "    content = img_file.read()\n",
    "img_bin = types.Image(content=content)\n",
    "\n",
    "img = cv2.imread(img_path)[:,:,::-1]\n",
    "\n",
    "\n",
    "\n",
    "\n",
    "# Query the image on google cloud vision API, get words\n",
    "response = client.text_detection(image=img_bin)\n",
    "texts = response.text_annotations\n",
    "words = [book_functions.Word.from_google_text(text) for text in texts[1:]]"
   ]
  },
  {
   "cell_type": "code",
   "execution_count": null,
   "metadata": {},
   "outputs": [],
   "source": [
    "print([text.description for text in texts[1:]])"
   ]
  },
  {
   "cell_type": "markdown",
   "metadata": {},
   "source": [
    "##### Make plot"
   ]
  },
  {
   "cell_type": "code",
   "execution_count": null,
   "metadata": {},
   "outputs": [],
   "source": [
    "\n",
    "background_color = 'white'\n",
    "special_color = [0,1,1]\n",
    "\n",
    "\n",
    "# Initialize figure\n",
    "fig = plt.figure(figsize = (16,12))\n",
    "\n",
    "\n",
    "# Plot image\n",
    "plt.imshow(img)\n",
    "\n",
    "\n",
    "# Plot annotations\n",
    "for i, word in enumerate(words):\n",
    "    bb = word.bounding_box\n",
    "    plt.plot([bb.xs[0], bb.xs[1]], [bb.ys[0], bb.ys[1]], lw = 5, c = words_color)\n",
    "    plt.plot([bb.xs[1], bb.xs[2]], [bb.ys[1], bb.ys[2]], lw = 5, c = words_color)\n",
    "    plt.plot([bb.xs[2], bb.xs[3]], [bb.ys[2], bb.ys[3]], lw = 5, c = words_color)\n",
    "    plt.plot([bb.xs[3], bb.xs[0]], [bb.ys[3], bb.ys[0]], lw = 5, c = words_color)\n",
    "\n",
    "    \n",
    "\n",
    "# Cosmetics\n",
    "plt.xticks([])\n",
    "plt.yticks([])\n",
    "\n",
    "plt.savefig('output/annotated.png', dpi = 300)\n",
    "\n",
    "plt.show()"
   ]
  },
  {
   "cell_type": "markdown",
   "metadata": {},
   "source": [
    "# Segmented spine and tokens"
   ]
  },
  {
   "cell_type": "markdown",
   "metadata": {},
   "source": [
    "##### Imports"
   ]
  },
  {
   "cell_type": "code",
   "execution_count": null,
   "metadata": {
    "jupyter": {
     "outputs_hidden": true
    }
   },
   "outputs": [],
   "source": [
    "# Python standard library\n",
    "import io\n",
    "import re\n",
    "import sys\n",
    "\n",
    "\n",
    "\n",
    "# Scientific computing\n",
    "import cv2\n",
    "import matplotlib.pyplot as plt\n",
    "%matplotlib inline\n",
    "import numpy as np\n",
    "\n",
    "\n",
    "# Google cloud\n",
    "from google.cloud import vision\n",
    "from google.cloud.vision import types\n",
    "\n",
    "\n",
    "# Shelfie\n",
    "sys.path.append('..')\n",
    "import main\n",
    "\n",
    "sys.path.append('../models')\n",
    "import book_functions\n",
    "import image_processing\n"
   ]
  },
  {
   "cell_type": "markdown",
   "metadata": {},
   "source": [
    "##### Get data"
   ]
  },
  {
   "cell_type": "code",
   "execution_count": null,
   "metadata": {},
   "outputs": [],
   "source": [
    "img_path = main.SHELFY_BASE_PATH + '/data/shelves/insight_8/insight_8.jpg'\n",
    "\n",
    "# Instantiates a google vision API client\n",
    "client = vision.ImageAnnotatorClient()\n",
    "\n",
    "# Loads the image into memory\n",
    "with io.open(img_path, 'rb') as img_file:\n",
    "    content = img_file.read()\n",
    "img_bin = types.Image(content=content)\n",
    "\n",
    "img = cv2.imread(img_path)[:,:,::-1]\n",
    "\n",
    "\n",
    "\n",
    "\n",
    "# Query the image on google cloud vision API, get words\n",
    "response = client.document_text_detection(image=img_bin)\n",
    "texts = response.text_annotations\n",
    "words = [book_functions.Word.from_google_text(text) for text in texts[1:]]\n",
    "\n",
    "\n",
    "# Get image lines\n",
    "lines = image_processing.get_book_lines(img)\n",
    "\n",
    "# Get books\n",
    "spines = book_functions.get_spines_from_words_lines(words, lines, yc_tolerance = 50, theta_tolerance = np.pi)"
   ]
  },
  {
   "cell_type": "markdown",
   "metadata": {},
   "source": [
    "##### Make plot"
   ]
  },
  {
   "cell_type": "code",
   "execution_count": null,
   "metadata": {},
   "outputs": [],
   "source": [
    "\n",
    "background_color = 'white'\n",
    "special_color = [0,1,1]\n",
    "\n",
    "\n",
    "# Initialize figure\n",
    "fig = plt.figure(figsize = medium_figsize)\n",
    "\n",
    "\n",
    "# Plot image\n",
    "plt.imshow(img)\n",
    "\n",
    "\n",
    "# Plot annotations\n",
    "for i, spine in enumerate(spines):\n",
    "    \n",
    "    if i == 6:\n",
    "        color = special_color\n",
    "    else:\n",
    "        continue\n",
    "        color = background_color\n",
    "\n",
    "    \n",
    "    for word in spine.words:\n",
    "        bb = word.bounding_box\n",
    "        plt.plot([bb.xs[0], bb.xs[1]], [bb.ys[0], bb.ys[1]], lw = 5, c = color)\n",
    "        plt.plot([bb.xs[1], bb.xs[2]], [bb.ys[1], bb.ys[2]], lw = 5, c = color)\n",
    "        plt.plot([bb.xs[2], bb.xs[3]], [bb.ys[2], bb.ys[3]], lw = 5, c = color)\n",
    "        plt.plot([bb.xs[3], bb.xs[0]], [bb.ys[3], bb.ys[0]], lw = 5, c = color)\n",
    "    \n",
    "    pass\n",
    "    \n",
    "\n",
    "# Plot spine lines\n",
    "for i, line in enumerate(lines):\n",
    "    if i == 8 or i == 9:\n",
    "        color = special_color\n",
    "    else:\n",
    "        color = background_color\n",
    "        \n",
    "    plt.plot([line.x(line.min_y), line.x(line.max_y)], [line.min_y, line.max_y], lw = 8, color = color)\n",
    "\n",
    "\n",
    "# Cosmetics\n",
    "plt.xticks([])\n",
    "plt.yticks([])\n",
    "\n",
    "plt.savefig('output/annotated_segmented.png', dpi = 300)\n",
    "\n",
    "plt.show()"
   ]
  },
  {
   "cell_type": "code",
   "execution_count": null,
   "metadata": {
    "jupyter": {
     "outputs_hidden": true
    }
   },
   "outputs": [],
   "source": []
  }
 ],
 "metadata": {
  "kernelspec": {
   "display_name": "Python 3",
   "language": "python",
   "name": "python3"
  },
  "language_info": {
   "codemirror_mode": {
    "name": "ipython",
    "version": 3
   },
   "file_extension": ".py",
   "mimetype": "text/x-python",
   "name": "python",
   "nbconvert_exporter": "python",
   "pygments_lexer": "ipython3",
   "version": "3.8.3"
  }
 },
 "nbformat": 4,
 "nbformat_minor": 4
}
